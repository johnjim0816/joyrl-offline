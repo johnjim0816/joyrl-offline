{
 "cells": [
  {
   "cell_type": "markdown",
   "id": "24a5de21",
   "metadata": {
    "pycharm": {
     "name": "#%% md\n"
    }
   },
   "source": [
    "### 导入需要的包"
   ]
  },
  {
   "cell_type": "code",
   "execution_count": 19,
   "id": "97ff2150",
   "metadata": {
    "pycharm": {
     "name": "#%%\n"
    }
   },
   "outputs": [],
   "source": [
    "import torch\n",
    "import os\n",
    "import random\n",
    "import gymnasium as gym\n",
    "import numpy as np\n",
    "import seaborn as sns\n",
    "import torch.nn as nn\n",
    "from matplotlib import pyplot as plt\n",
    "from torch.nn import functional as F\n",
    "from torch.distributions import Categorical,Normal\n",
    "from collections import deque"
   ]
  },
  {
   "cell_type": "markdown",
   "id": "0de47f08",
   "metadata": {
    "pycharm": {
     "name": "#%% md\n"
    }
   },
   "source": [
    "### 定义演员-评论家网络\n",
    "对于gymnasium中简单的环境，简单的线性层+激活层就可以进行学习，在这里针对离散动作空间和连续动作空间设计不同的actor网络。"
   ]
  },
  {
   "cell_type": "code",
   "execution_count": 31,
   "id": "928ca0b8",
   "metadata": {
    "pycharm": {
     "name": "#%%\n"
    }
   },
   "outputs": [],
   "source": [
    "class ActorSoftmax(nn.Module):\n",
    "    '''针对离散动作空间下的actor网络'''\n",
    "    def __init__(self,input_dim,output_dim,hidden_dim=128):\n",
    "        super(ActorSoftmax, self).__init__()\n",
    "        self.fc1 = nn.Linear(input_dim,hidden_dim)\n",
    "        self.fc2 = nn.Linear(hidden_dim,hidden_dim)\n",
    "        self.fc3 = nn.Linear(hidden_dim,output_dim)\n",
    "\n",
    "    def forward(self, x):\n",
    "        x = F.relu(self.fc1(x))\n",
    "        x = F.relu(self.fc2(x))\n",
    "        probs = F.softmax(self.fc3(x),dim=1)\n",
    "        return probs\n",
    "\n",
    "class ActorNormal(nn.Module):\n",
    "    '''针对连续动作空间下的actor网络'''\n",
    "    def __init__(self,input_dim,output_dim,hidden_dim=128):\n",
    "        super(ActorNormal,self).__init__()\n",
    "        self.fc1 = nn.Linear(input_dim,hidden_dim)\n",
    "        self.fc2 = nn.Linear(hidden_dim,hidden_dim)\n",
    "        self.fc3 = nn.Linear(hidden_dim,output_dim)\n",
    "    \n",
    "    def forward(self,x):\n",
    "        x = F.relu(self.fc1(x))\n",
    "        x = F.relu(self.fc2(x))\n",
    "        mu = torch.tanh(self.fc3(x)) # 计算正态分布的均值\n",
    "        sigma = F.softplus(self.fc3(x))+0.001 # 计算正态分布的方差\n",
    "        sigma = torch.clamp(sigma, min=-0.25, max=0.25) # 将方差数值限制在-0.25到0.25之间\n",
    "        return mu,sigma\n",
    "        \n",
    "class Critic(nn.Module):\n",
    "    def __init__(self, input_dim, output_dim, hidden_dim=128):\n",
    "        super(Critic, self).__init__()\n",
    "        self.fc1 = nn.Linear(input_dim, hidden_dim)\n",
    "        self.fc2 = nn.Linear(hidden_dim, hidden_dim)\n",
    "        self.fc3 = nn.Linear(hidden_dim, output_dim)\n",
    "\n",
    "    def forward(self, x):\n",
    "        x = F.relu(self.fc1(x))\n",
    "        x = F.relu(self.fc2(x))\n",
    "        value = self.fc3(x)\n",
    "        return value"
   ]
  },
  {
   "cell_type": "markdown",
   "id": "cb58b92d",
   "metadata": {
    "pycharm": {
     "name": "#%% md\n"
    }
   },
   "source": [
    "### 定义智能体-A2C算法的实现\n",
    "首先定义一个缓冲区，用于收集模型展开n_steps的轨迹，环境会根据选取的动作返回新的观测状态、奖励等信息，将这些信息存储在缓冲区中，在A2C算法中，等到智能体执行n步动作之后，将所有信息取出来进行之后的计算。"
   ]
  },
  {
   "cell_type": "code",
   "execution_count": 12,
   "id": "7a3d5929",
   "metadata": {
    "pycharm": {
     "name": "#%%\n"
    }
   },
   "outputs": [],
   "source": [
    "class PGReplay:\n",
    "    '''创建一个缓冲区，用于策略梯度算法，每当智能体在环境中执行n步动作之后，将缓冲区中存储的信息全部提取出来计算进行网络参数更新\n",
    "    '''\n",
    "    def __init__(self):\n",
    "        self.buffer = deque() # 创建一个缓冲区\n",
    "    def push(self,transitions):\n",
    "        self.buffer.append(transitions) # 将transition存储到缓冲区中\n",
    "    def sample(self):\n",
    "        batch = list(self.buffer)\n",
    "        return zip(*batch) # 提取出所有的transition\n",
    "    def clear(self):\n",
    "        self.buffer.clear() # 清空缓冲区"
   ]
  },
  {
   "cell_type": "markdown",
   "id": "cadf2e5a",
   "metadata": {
    "pycharm": {
     "name": "#%% md\n"
    }
   },
   "source": [
    "A2C算法的基本原理是在演员-评论家算法的基础上引入优势函数的概念。评论家是一个函数逼近器，输入当前观测到的状态，输出评分值，也就是Q值。而Q值实际上可以分解为两部分，即Q(s,a)=A(s,a)+V(s)。其中A(s,a)即为优势函数，评价的是在给定状态下当前选定动作相较于其他动作的好坏，它可以通过采样数据计算得出。A2C算法的核心就在于让评论家学习A(s,a)而不再是学习Q(s,a)。"
   ]
  },
  {
   "cell_type": "markdown",
   "id": "e855c17d",
   "metadata": {
    "pycharm": {
     "name": "#%% md\n"
    }
   },
   "source": [
    "损失函数一般分为三项，策略梯度损失，值残差和策略熵正则。其中，策略梯度损失用于不断优化提升reward，值残差用于使critic网络不断逼近真实的reward，策略熵正则能够为了保证action的多样性，增加智能体探索能力。由于策略梯度损失和策略熵正则进行梯度更新的参数相同，于是将这两项进行合并。"
   ]
  },
  {
   "cell_type": "code",
   "execution_count": 23,
   "id": "8a08aea5",
   "metadata": {
    "pycharm": {
     "name": "#%%\n"
    }
   },
   "outputs": [],
   "source": [
    "class A2C:\n",
    "    def __init__(self, cfg):\n",
    "        self.gamma = cfg.gamma\n",
    "        self.entropy_coef = cfg.entropy_coef\n",
    "        self.device = torch.device(cfg.device)\n",
    "        self.continuous = cfg.continuous\n",
    "        if hasattr(cfg,'action_bound'):\n",
    "            self.action_bound = cfg.action_bound\n",
    "        self.actor = ActorSoftmax(cfg.state_dim,cfg.action_dim,hidden_dim=cfg.actor_hidden_dim).to(self.device) # 定义actor网络\n",
    "        self.critic = Critic(cfg.state_dim,1,hidden_dim=cfg.critic_hidden_dim).to(self.device) # 定义critic网络\n",
    "        self.actor_optimizer = torch.optim.Adam(self.actor.parameters(),lr=cfg.actor_lr)\n",
    "        self.critic_optimizer = torch.optim.Adam(self.critic.parameters(),lr=cfg.critic_lr)\n",
    "        self.memory = PGReplay() # 定义缓冲区，用于存放transition\n",
    "        self.sample_count = 0 # 用于采样次数计数\n",
    "        self.update_freq = cfg.update_freq # 更新策略的步数\n",
    "        \n",
    "    def sample_action(self,state):\n",
    "        '''动作采样函数\n",
    "        '''\n",
    "        self.sample_count += 1\n",
    "        ## 针对连续动作空间下对动作的处理\n",
    "        if self.continuous:\n",
    "            state = torch.tensor(state, device=self.device, dtype=torch.float32).unsqueeze(dim=0)\n",
    "            mu, sigma = self.actor(state)\n",
    "            dist = Normal(self.action_bound * mu.view(1,), sigma.view(1,))\n",
    "            action = dist.sample()\n",
    "            value = self.critic(state)\n",
    "            self.value = value.detach().cpu().numpy().squeeze(0)[0] # detach()操作，避免计算梯度\n",
    "            self.log_prob = dist.log_prob(action).squeeze(dim=0) # Tensor([0.])\n",
    "            self.entropy = dist.entropy().cpu().detach().numpy().squeeze(0) \n",
    "            return action.cpu().detach().numpy()[0]\n",
    "        ## 针对离散动作空间下对动作的处理\n",
    "        else:\n",
    "            state = torch.tensor(state, device=self.device, dtype=torch.float32).unsqueeze(dim=0)\n",
    "            probs = self.actor(state)\n",
    "            dist = Categorical(probs)\n",
    "            action = dist.sample() # Tensor([0])\n",
    "            return action.detach().cpu().numpy().item() # 将tensor数据类型转换为numpy.int64数据类型\n",
    "        \n",
    "    @torch.no_grad()\n",
    "    def predict_action(self,state):\n",
    "        '''预测动作，与动作采样函数功能相同，只是执行该函数时不需要计算梯度'''\n",
    "        if self.continuous:\n",
    "            state = torch.tensor(state, device=self.device, dtype=torch.float32).unsqueeze(dim=0)\n",
    "            mu, sigma = self.actor(state)\n",
    "            dist = Normal(self.action_bound * mu.view(1,), sigma.view(1,))\n",
    "            action = dist.sample()\n",
    "            return action.cpu().detach().numpy()[0]\n",
    "        else:\n",
    "            state = torch.tensor(state, device=self.device, dtype=torch.float32).unsqueeze(dim=0)\n",
    "            probs = self.actor(state)\n",
    "            dist = Categorical(probs)\n",
    "            action = dist.sample()\n",
    "            return action.detach().cpu().numpy().item()\n",
    "        \n",
    "    def compute_returns(self, next_value, rewards, masks):\n",
    "        '''计算一个轨迹的累积奖励\n",
    "        '''\n",
    "        returns = torch.zeros_like(rewards)\n",
    "        R = next_value\n",
    "        for t in reversed(range(len(rewards))):\n",
    "            R = rewards[t] + self.gamma * R * masks[t]\n",
    "            returns[t] = R\n",
    "        ## 归一化处理，使数值更加稳定\n",
    "        returns = torch.tensor(returns, device=self.device, dtype=torch.float32).unsqueeze(1) # shape:(batch_size,1)\n",
    "        returns = (returns - returns.mean()) / (returns.std() + 1e-5) # 避免除0\n",
    "        return returns  \n",
    "        \n",
    "    def update(self,next_state):\n",
    "        # 每隔n步更新策略\n",
    "        if self.sample_count % self.update_freq != 0:\n",
    "            return\n",
    "        states, actions, rewards, masks = self.memory.sample()\n",
    "        ## 转换成tensor数据类型\n",
    "        states = torch.tensor(np.array(states), device=self.device, dtype=torch.float32) # shape:(batch_size,state_dim)\n",
    "        actions = torch.tensor(np.array(actions), device=self.device, dtype=torch.float32) # shape:(batch_size,action_dim)\n",
    "        rewards = torch.tensor(np.array(rewards), device=self.device, dtype=torch.float32) # shape:(batch_size,1)\n",
    "        masks = torch.tensor(np.array(masks), device=self.device, dtype=torch.float32) # shape:(batch_size,1)\n",
    "        if next_state is not None:\n",
    "            next_state = torch.tensor(next_state, device=self.device, dtype=torch.float32).unsqueeze(dim=0)\n",
    "            next_value = self.critic(next_state).detach().cpu().numpy().squeeze(0)[0] # 数据处理之前的shape：(1,1)\n",
    "        else:\n",
    "            next_value = 0 # 终止状态时，无需计算下一状态的奖励\n",
    "        returns = self.compute_returns(next_value,rewards,masks) # shape:(batch_size,1)\n",
    "        values = self.critic(states) # shape:(batch_size,1)\n",
    "        advantages = returns - values.detach() # shape:(batch_size,1)\n",
    "        probs = self.actor(states) # shape:(batch_size,action_dim)\n",
    "        dist = Categorical(probs)\n",
    "        log_probs = dist.log_prob(actions).unsqueeze(dim=1) # shape:(batch_size,1)\n",
    "        actor_loss = (-log_probs*advantages).mean() - self.entropy_coef * dist.entropy().mean() # 计算actor网络损失函数\n",
    "        critic_loss = (returns-values).pow(2).mean() # 计算critic网络损失函数\n",
    "        ## 更新参数\n",
    "        self.actor_optimizer.zero_grad()\n",
    "        self.critic_optimizer.zero_grad()\n",
    "        actor_loss.backward(retain_graph=True)\n",
    "        critic_loss.backward()\n",
    "        self.actor_optimizer.step()\n",
    "        self.critic_optimizer.step()\n",
    "        self.memory.clear() # 清除缓冲区"
   ]
  },
  {
   "cell_type": "markdown",
   "id": "b839b8ff",
   "metadata": {
    "pycharm": {
     "name": "#%% md\n"
    }
   },
   "source": [
    "### 定义训练"
   ]
  },
  {
   "cell_type": "code",
   "execution_count": 41,
   "id": "a3595776",
   "metadata": {
    "pycharm": {
     "name": "#%%\n"
    }
   },
   "outputs": [],
   "source": [
    "def train(cfg, env, agent):\n",
    "    ''' 训练\n",
    "    '''\n",
    "    print(\"开始训练！\")\n",
    "    rewards = []  # 记录所有回合的奖励\n",
    "    steps = [] # 记录所有回合的步数\n",
    "    for i_ep in range(cfg.train_eps):\n",
    "        ep_reward = 0  # 记录一回合内的奖励\n",
    "        ep_step = 0 # 记录一回合智能体一共走的步数\n",
    "        state, info = env.reset(seed = cfg.seed)  # 重置环境，返回初始状态\n",
    "        for _ in range(cfg.max_steps):\n",
    "            ep_step += 1\n",
    "            action = agent.sample_action(state)  # 动作采样\n",
    "            next_state, reward, terminated, truncated , info = env.step(action)  # 更新环境，返回transition\n",
    "            agent.memory.push((state,action,reward,1-terminated)) # 将transition存储到缓冲区中\n",
    "            if terminated:\n",
    "                agent.update(None)\n",
    "            else:\n",
    "                agent.update(next_state) # 更新网络参数\n",
    "            state = next_state  # 更新状态\n",
    "            ep_reward += reward  # 计算累积奖励\n",
    "            if terminated:\n",
    "                break\n",
    "        steps.append(ep_step)\n",
    "        rewards.append(ep_reward)\n",
    "        if (i_ep + 1) % 10 == 0:\n",
    "            print(f\"回合：{i_ep+1}/{cfg.train_eps}，奖励：{ep_reward:.2f}\")\n",
    "    print(\"完成训练！\")\n",
    "    env.close()\n",
    "    return {'rewards':rewards}\n",
    "\n",
    "def test(cfg, env, agent):\n",
    "    print(\"开始测试！\")\n",
    "    rewards = []  # 记录所有回合的奖励\n",
    "    steps = [] # 记录所有回合的步数\n",
    "    for i_ep in range(cfg.test_eps):\n",
    "        ep_reward = 0  # 记录一回合内的奖励\n",
    "        ep_step = 0 # 记录一回合智能体一共走的步数\n",
    "        state, info = env.reset(seed = cfg.seed)  # 重置环境，返回初始状态\n",
    "        for _ in range(cfg.max_steps):\n",
    "            ep_step+=1\n",
    "            action = agent.predict_action(state)  # 选择动作\n",
    "            next_state, reward, terminated, truncated , info = env.step(action)  # 更新环境，返回transition\n",
    "            state = next_state  # 更新下一个状态\n",
    "            ep_reward += reward  # 累加奖励\n",
    "            if terminated:\n",
    "                break\n",
    "        steps.append(ep_step)\n",
    "        rewards.append(ep_reward)\n",
    "        print(f\"回合：{i_ep+1}/{cfg.test_eps}，奖励：{ep_reward:.2f}\")\n",
    "    print(\"完成测试\")\n",
    "    env.close()\n",
    "    return {'rewards':rewards}"
   ]
  },
  {
   "cell_type": "markdown",
   "id": "891ada34",
   "metadata": {
    "pycharm": {
     "name": "#%% md\n"
    }
   },
   "source": [
    "### 定义环境"
   ]
  },
  {
   "cell_type": "code",
   "execution_count": 16,
   "id": "54a0af47",
   "metadata": {
    "pycharm": {
     "name": "#%%\n"
    }
   },
   "outputs": [],
   "source": [
    "def all_seed(seed = 1):\n",
    "    ''' 万能的seed函数\n",
    "    '''\n",
    "    if seed == 0: # 不设置seed\n",
    "        return \n",
    "    np.random.seed(seed)\n",
    "    random.seed(seed)\n",
    "    torch.manual_seed(seed) # config for CPU\n",
    "    torch.cuda.manual_seed(seed) # config for GPU\n",
    "    os.environ['PYTHONHASHSEED'] = str(seed) # config for python scripts\n",
    "    # config for cudnn\n",
    "    torch.backends.cudnn.deterministic = True\n",
    "    torch.backends.cudnn.benchmark = False\n",
    "    torch.backends.cudnn.enabled = False\n",
    "def env_agent_config(cfg):\n",
    "    env = gym.make(cfg.env_id) # 创建环境\n",
    "    all_seed(seed=cfg.seed) # 设置随机种子\n",
    "    state_dim = env.observation_space.shape[0]\n",
    "    action_dim = env.action_space.n\n",
    "    print(f\"状态空间维度：{state_dim}，动作空间维度：{action_dim}\")\n",
    "    setattr(cfg,\"state_dim\",state_dim) # 更新state_dim到cfg参数中\n",
    "    setattr(cfg,\"action_dim\",action_dim) # 更新action_dim到cfg参数中\n",
    "    actor = ActorSoftmax(state_dim, action_dim, hidden_dim = cfg.actor_hidden_dim) # 创建actor网络\n",
    "    critic = Critic(state_dim, 1, hidden_dim =cfg.critic_hidden_dim ) # 创建critic网络\n",
    "    memory = PGReplay()\n",
    "    agent = A2C(cfg)\n",
    "    return env,agent"
   ]
  },
  {
   "cell_type": "markdown",
   "id": "05ec504d",
   "metadata": {
    "pycharm": {
     "name": "#%% md\n"
    }
   },
   "source": [
    "### 设置参数"
   ]
  },
  {
   "cell_type": "code",
   "execution_count": 40,
   "id": "9bb9d8c6",
   "metadata": {
    "pycharm": {
     "name": "#%%\n"
    }
   },
   "outputs": [],
   "source": [
    "class Config:\n",
    "    def __init__(self) -> None:\n",
    "        self.algo_name = 'A2C' # 算法名称\n",
    "        self.env_id = 'CartPole-v1' # 环境id\n",
    "        self.seed = 1 # 随机种子，便于复现，0表示不设置\n",
    "        self.continuous = False # 设置动作空间是离散还是连续的\n",
    "        self.train_eps = 500 # 训练的回合数\n",
    "        self.test_eps = 200 # 测试的回合数\n",
    "        self.max_steps = 200 # 每个回合的最大步数，超过该数则游戏强制终止\n",
    "        self.gamma = 0.95 # 折扣因子\n",
    "        self.actor_lr = 3e-4 # actor网络学习率\n",
    "        self.critic_lr= 1e-3 # critic网络学习率\n",
    "        self.entropy_coef = 0.001 # 损失函数中entropy_loss的系数值\n",
    "        self.actor_hidden_dim = 256 # actor网络的隐藏层维度\n",
    "        self.critic_hidden_dim = 256 # critic网络的隐藏层维度\n",
    "        self.update_freq = 20 # 更新策略的间隔步数\n",
    "        self.device = torch.device(\"cuda\" if torch.cuda.is_available() else \"cpu\") # 检测gpu\n",
    "        \n",
    "def smooth(data, weight=0.9):  \n",
    "    '''用于平滑曲线，类似于Tensorboard中的smooth曲线\n",
    "    '''\n",
    "    last = data[0] \n",
    "    smoothed = []\n",
    "    for point in data:\n",
    "        smoothed_val = last * weight + (1 - weight) * point  # 计算平滑值\n",
    "        smoothed.append(smoothed_val)                    \n",
    "        last = smoothed_val                                \n",
    "    return smoothed\n",
    "\n",
    "def plot_rewards(rewards,cfg, tag='train'):\n",
    "    ''' 画图\n",
    "    '''\n",
    "    sns.set()\n",
    "    plt.figure()  # 创建一个图形实例，方便同时多画几个图\n",
    "    plt.title(f\"{tag}ing curve on {cfg.device} of {cfg.algo_name} for {cfg.env_id}\")\n",
    "    plt.xlabel('epsiodes')\n",
    "    plt.plot(rewards, label='rewards')\n",
    "    plt.plot(smooth(rewards), label='smoothed')\n",
    "    plt.legend()\n",
    "    plt.show()"
   ]
  },
  {
   "cell_type": "markdown",
   "id": "29444881",
   "metadata": {
    "pycharm": {
     "name": "#%% md\n"
    }
   },
   "source": [
    "### 开始训练"
   ]
  },
  {
   "cell_type": "code",
   "execution_count": 42,
   "id": "804df10a",
   "metadata": {
    "pycharm": {
     "name": "#%%\n"
    }
   },
   "outputs": [
    {
     "name": "stdout",
     "output_type": "stream",
     "text": [
      "状态空间维度：4，动作空间维度：2\n",
      "开始训练！\n"
     ]
    },
    {
     "name": "stderr",
     "output_type": "stream",
     "text": [
      "D:\\anaconda\\envs\\pytorch\\lib\\site-packages\\ipykernel_launcher.py:60: UserWarning: To copy construct from a tensor, it is recommended to use sourceTensor.clone().detach() or sourceTensor.clone().detach().requires_grad_(True), rather than torch.tensor(sourceTensor).\n"
     ]
    },
    {
     "name": "stdout",
     "output_type": "stream",
     "text": [
      "回合：10/500，奖励：18.00\n",
      "回合：20/500，奖励：17.00\n",
      "回合：30/500，奖励：14.00\n",
      "回合：40/500，奖励：17.00\n",
      "回合：50/500，奖励：40.00\n",
      "回合：60/500，奖励：12.00\n",
      "回合：70/500，奖励：21.00\n",
      "回合：80/500，奖励：35.00\n",
      "回合：90/500，奖励：28.00\n",
      "回合：100/500，奖励：79.00\n",
      "回合：110/500，奖励：10.00\n",
      "回合：120/500，奖励：31.00\n",
      "回合：130/500，奖励：48.00\n",
      "回合：140/500，奖励：31.00\n",
      "回合：150/500，奖励：39.00\n",
      "回合：160/500，奖励：60.00\n",
      "回合：170/500，奖励：81.00\n",
      "回合：180/500，奖励：66.00\n",
      "回合：190/500，奖励：76.00\n",
      "回合：200/500，奖励：123.00\n",
      "回合：210/500，奖励：47.00\n",
      "回合：220/500，奖励：17.00\n",
      "回合：230/500，奖励：25.00\n",
      "回合：240/500，奖励：11.00\n",
      "回合：250/500，奖励：25.00\n",
      "回合：260/500，奖励：15.00\n",
      "回合：270/500，奖励：32.00\n",
      "回合：280/500，奖励：15.00\n",
      "回合：290/500，奖励：59.00\n",
      "回合：300/500，奖励：194.00\n",
      "回合：310/500，奖励：117.00\n",
      "回合：320/500，奖励：123.00\n",
      "回合：330/500，奖励：94.00\n",
      "回合：340/500，奖励：15.00\n",
      "回合：350/500，奖励：49.00\n",
      "回合：360/500，奖励：88.00\n",
      "回合：370/500，奖励：55.00\n",
      "回合：380/500，奖励：200.00\n",
      "回合：390/500，奖励：53.00\n",
      "回合：400/500，奖励：56.00\n",
      "回合：410/500，奖励：57.00\n",
      "回合：420/500，奖励：53.00\n",
      "回合：430/500，奖励：200.00\n",
      "回合：440/500，奖励：42.00\n",
      "回合：450/500，奖励：116.00\n",
      "回合：460/500，奖励：177.00\n",
      "回合：470/500，奖励：101.00\n",
      "回合：480/500，奖励：54.00\n",
      "回合：490/500，奖励：93.00\n",
      "回合：500/500，奖励：200.00\n",
      "完成训练！\n"
     ]
    },
    {
     "data": {
      "image/png": "[encoded data removed]",
      "text/plain": [
       "<Figure size 432x288 with 1 Axes>"
      ]
     },
     "metadata": {},
     "output_type": "display_data"
    },
    {
     "name": "stdout",
     "output_type": "stream",
     "text": [
      "开始测试！\n",
      "回合：1/200，奖励：200.00\n",
      "回合：2/200，奖励：200.00\n",
      "回合：3/200，奖励：200.00\n",
      "回合：4/200，奖励：200.00\n",
      "回合：5/200，奖励：200.00\n",
      "回合：6/200，奖励：200.00\n",
      "回合：7/200，奖励：200.00\n",
      "回合：8/200，奖励：200.00\n",
      "回合：9/200，奖励：200.00\n",
      "回合：10/200，奖励：200.00\n",
      "回合：11/200，奖励：200.00\n",
      "回合：12/200，奖励：158.00\n",
      "回合：13/200，奖励：200.00\n",
      "回合：14/200，奖励：200.00\n",
      "回合：15/200，奖励：200.00\n",
      "回合：16/200，奖励：200.00\n",
      "回合：17/200，奖励：193.00\n",
      "回合：18/200，奖励：200.00\n",
      "回合：19/200，奖励：200.00\n",
      "回合：20/200，奖励：200.00\n",
      "回合：21/200，奖励：200.00\n",
      "回合：22/200，奖励：200.00\n",
      "回合：23/200，奖励：200.00\n",
      "回合：24/200，奖励：123.00\n",
      "回合：25/200，奖励：185.00\n",
      "回合：26/200，奖励：130.00\n",
      "回合：27/200，奖励：200.00\n",
      "回合：28/200，奖励：200.00\n",
      "回合：29/200，奖励：200.00\n",
      "回合：30/200，奖励：200.00\n",
      "回合：31/200，奖励：200.00\n",
      "回合：32/200，奖励：200.00\n",
      "回合：33/200，奖励：200.00\n",
      "回合：34/200，奖励：200.00\n",
      "回合：35/200，奖励：200.00\n",
      "回合：36/200，奖励：150.00\n",
      "回合：37/200，奖励：200.00\n",
      "回合：38/200，奖励：200.00\n",
      "回合：39/200，奖励：200.00\n",
      "回合：40/200，奖励：186.00\n",
      "回合：41/200，奖励：200.00\n",
      "回合：42/200，奖励：200.00\n",
      "回合：43/200，奖励：149.00\n",
      "回合：44/200，奖励：149.00\n",
      "回合：45/200，奖励：200.00\n",
      "回合：46/200，奖励：200.00\n",
      "回合：47/200，奖励：200.00\n",
      "回合：48/200，奖励：200.00\n",
      "回合：49/200，奖励：112.00\n",
      "回合：50/200，奖励：200.00\n",
      "回合：51/200，奖励：200.00\n",
      "回合：52/200，奖励：200.00\n",
      "回合：53/200，奖励：200.00\n",
      "回合：54/200，奖励：200.00\n",
      "回合：55/200，奖励：200.00\n",
      "回合：56/200，奖励：200.00\n",
      "回合：57/200，奖励：200.00\n",
      "回合：58/200，奖励：200.00\n",
      "回合：59/200，奖励：200.00\n",
      "回合：60/200，奖励：200.00\n",
      "回合：61/200，奖励：200.00\n",
      "回合：62/200，奖励：200.00\n",
      "回合：63/200，奖励：200.00\n",
      "回合：64/200，奖励：200.00\n",
      "回合：65/200，奖励：200.00\n",
      "回合：66/200，奖励：200.00\n",
      "回合：67/200，奖励：200.00\n",
      "回合：68/200，奖励：200.00\n",
      "回合：69/200，奖励：200.00\n",
      "回合：70/200，奖励：200.00\n",
      "回合：71/200，奖励：144.00\n",
      "回合：72/200，奖励：200.00\n",
      "回合：73/200，奖励：200.00\n",
      "回合：74/200，奖励：200.00\n",
      "回合：75/200，奖励：200.00\n",
      "回合：76/200，奖励：200.00\n",
      "回合：77/200，奖励：200.00\n",
      "回合：78/200，奖励：200.00\n",
      "回合：79/200，奖励：200.00\n",
      "回合：80/200，奖励：200.00\n",
      "回合：81/200，奖励：200.00\n",
      "回合：82/200，奖励：200.00\n",
      "回合：83/200，奖励：200.00\n",
      "回合：84/200，奖励：200.00\n",
      "回合：85/200，奖励：200.00\n",
      "回合：86/200，奖励：200.00\n",
      "回合：87/200，奖励：200.00\n",
      "回合：88/200，奖励：200.00\n",
      "回合：89/200，奖励：200.00\n",
      "回合：90/200，奖励：200.00\n",
      "回合：91/200，奖励：200.00\n",
      "回合：92/200，奖励：200.00\n",
      "回合：93/200，奖励：200.00\n",
      "回合：94/200，奖励：200.00\n",
      "回合：95/200，奖励：200.00\n",
      "回合：96/200，奖励：200.00\n",
      "回合：97/200，奖励：200.00\n",
      "回合：98/200，奖励：200.00\n",
      "回合：99/200，奖励：200.00\n",
      "回合：100/200，奖励：200.00\n",
      "回合：101/200，奖励：200.00\n",
      "回合：102/200，奖励：200.00\n",
      "回合：103/200，奖励：200.00\n",
      "回合：104/200，奖励：200.00\n",
      "回合：105/200，奖励：200.00\n",
      "回合：106/200，奖励：200.00\n",
      "回合：107/200，奖励：142.00\n",
      "回合：108/200，奖励：170.00\n",
      "回合：109/200，奖励：200.00\n",
      "回合：110/200，奖励：200.00\n",
      "回合：111/200，奖励：200.00\n",
      "回合：112/200，奖励：200.00\n",
      "回合：113/200，奖励：200.00\n",
      "回合：114/200，奖励：200.00\n",
      "回合：115/200，奖励：96.00\n",
      "回合：116/200，奖励：200.00\n",
      "回合：117/200，奖励：200.00\n",
      "回合：118/200，奖励：200.00\n",
      "回合：119/200，奖励：200.00\n",
      "回合：120/200，奖励：200.00\n",
      "回合：121/200，奖励：200.00\n",
      "回合：122/200，奖励：200.00\n",
      "回合：123/200，奖励：200.00\n",
      "回合：124/200，奖励：200.00\n",
      "回合：125/200，奖励：159.00\n",
      "回合：126/200，奖励：200.00\n",
      "回合：127/200，奖励：200.00\n",
      "回合：128/200，奖励：200.00\n",
      "回合：129/200，奖励：200.00\n",
      "回合：130/200，奖励：200.00\n",
      "回合：131/200，奖励：200.00\n",
      "回合：132/200，奖励：200.00\n",
      "回合：133/200，奖励：200.00\n",
      "回合：134/200，奖励：200.00\n",
      "回合：135/200，奖励：200.00\n",
      "回合：136/200，奖励：200.00\n",
      "回合：137/200，奖励：200.00\n",
      "回合：138/200，奖励：200.00\n",
      "回合：139/200，奖励：188.00\n",
      "回合：140/200，奖励：200.00\n",
      "回合：141/200，奖励：175.00\n",
      "回合：142/200，奖励：200.00\n",
      "回合：143/200，奖励：200.00\n",
      "回合：144/200，奖励：200.00\n",
      "回合：145/200，奖励：200.00\n",
      "回合：146/200，奖励：200.00\n",
      "回合：147/200，奖励：200.00\n",
      "回合：148/200，奖励：200.00\n",
      "回合：149/200，奖励：200.00\n",
      "回合：150/200，奖励：200.00\n",
      "回合：151/200，奖励：200.00\n",
      "回合：152/200，奖励：200.00\n",
      "回合：153/200，奖励：200.00\n",
      "回合：154/200，奖励：200.00\n",
      "回合：155/200，奖励：200.00\n",
      "回合：156/200，奖励：200.00\n",
      "回合：157/200，奖励：200.00\n",
      "回合：158/200，奖励：200.00\n",
      "回合：159/200，奖励：200.00\n",
      "回合：160/200，奖励：200.00\n",
      "回合：161/200，奖励：200.00\n",
      "回合：162/200，奖励：200.00\n",
      "回合：163/200，奖励：200.00\n",
      "回合：164/200，奖励：200.00\n",
      "回合：165/200，奖励：200.00\n",
      "回合：166/200，奖励：200.00\n",
      "回合：167/200，奖励：200.00\n",
      "回合：168/200，奖励：200.00\n",
      "回合：169/200，奖励：200.00\n",
      "回合：170/200，奖励：200.00\n",
      "回合：171/200，奖励：200.00\n",
      "回合：172/200，奖励：200.00\n",
      "回合：173/200，奖励：200.00\n",
      "回合：174/200，奖励：200.00\n",
      "回合：175/200，奖励：200.00\n",
      "回合：176/200，奖励：200.00\n",
      "回合：177/200，奖励：200.00\n",
      "回合：178/200，奖励：200.00\n",
      "回合：179/200，奖励：200.00\n",
      "回合：180/200，奖励：200.00\n",
      "回合：181/200，奖励：200.00\n",
      "回合：182/200，奖励：200.00\n",
      "回合：183/200，奖励：200.00\n",
      "回合：184/200，奖励：167.00\n",
      "回合：185/200，奖励：200.00\n",
      "回合：186/200，奖励：200.00\n",
      "回合：187/200，奖励：200.00\n",
      "回合：188/200，奖励：143.00\n",
      "回合：189/200，奖励：200.00\n",
      "回合：190/200，奖励：200.00\n",
      "回合：191/200，奖励：176.00\n",
      "回合：192/200，奖励：200.00\n",
      "回合：193/200，奖励：200.00\n",
      "回合：194/200，奖励：200.00\n",
      "回合：195/200，奖励：200.00\n",
      "回合：196/200，奖励：200.00\n",
      "回合：197/200，奖励：200.00\n",
      "回合：198/200，奖励：193.00\n",
      "回合：199/200，奖励：200.00\n",
      "回合：200/200，奖励：200.00\n",
      "完成测试\n"
     ]
    },
    {
     "data": {
      "image/png": "[encoded data removed]",
      "text/plain": [
       "<Figure size 432x288 with 1 Axes>"
      ]
     },
     "metadata": {},
     "output_type": "display_data"
    }
   ],
   "source": [
    "# 获取参数\n",
    "cfg = Config() \n",
    "# 训练\n",
    "env, agent = env_agent_config(cfg)\n",
    "res_dic = train(cfg, env, agent)\n",
    " \n",
    "plot_rewards(res_dic['rewards'], cfg, tag=\"train\")  \n",
    "# 测试\n",
    "res_dic = test(cfg, env, agent)\n",
    "plot_rewards(res_dic['rewards'], cfg, tag=\"test\")  # 画出结果"
   ]
  }
 ],
 "metadata": {
  "kernelspec": {
   "display_name": "Python [conda env:pytorch] *",
   "language": "python",
   "name": "conda-env-pytorch-py"
  },
  "language_info": {
   "codemirror_mode": {
    "name": "ipython",
    "version": 3
   },
   "file_extension": ".py",
   "mimetype": "text/x-python",
   "name": "python",
   "nbconvert_exporter": "python",
   "pygments_lexer": "ipython3",
   "version": "3.7.13"
  },
  "toc": {
   "base_numbering": 1,
   "nav_menu": {},
   "number_sections": true,
   "sideBar": true,
   "skip_h1_title": false,
   "title_cell": "Table of Contents",
   "title_sidebar": "Contents",
   "toc_cell": false,
   "toc_position": {},
   "toc_section_display": true,
   "toc_window_display": false
  }
 },
 "nbformat": 4,
 "nbformat_minor": 5
}